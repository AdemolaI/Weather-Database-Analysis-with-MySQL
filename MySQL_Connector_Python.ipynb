{
 "cells": [
  {
   "cell_type": "code",
   "execution_count": 1,
   "metadata": {},
   "outputs": [
    {
     "name": "stdout",
     "output_type": "stream",
     "text": [
      "Collecting mysql-connector-pythonNote: you may need to restart the kernel to use updated packages.\n",
      "\n",
      "  Obtaining dependency information for mysql-connector-python from https://files.pythonhosted.org/packages/a7/84/b63f11124f808b6f1e3389072bc36cc907929d7574e85f94bf8f18117fe4/mysql_connector_python-8.2.0-cp311-cp311-win_amd64.whl.metadata\n",
      "  Downloading mysql_connector_python-8.2.0-cp311-cp311-win_amd64.whl.metadata (2.1 kB)\n",
      "Collecting protobuf<=4.21.12,>=4.21.1 (from mysql-connector-python)\n",
      "  Downloading protobuf-4.21.12-cp310-abi3-win_amd64.whl (527 kB)\n",
      "     ---------------------------------------- 0.0/527.0 kB ? eta -:--:--\n",
      "     ----- --------------------------------- 71.7/527.0 kB 2.0 MB/s eta 0:00:01\n",
      "     ----------------------------- -------- 409.6/527.0 kB 4.2 MB/s eta 0:00:01\n",
      "     -------------------------------------  522.2/527.0 kB 3.7 MB/s eta 0:00:01\n",
      "     -------------------------------------- 527.0/527.0 kB 2.4 MB/s eta 0:00:00\n",
      "Downloading mysql_connector_python-8.2.0-cp311-cp311-win_amd64.whl (14.2 MB)\n",
      "   ---------------------------------------- 0.0/14.2 MB ? eta -:--:--\n",
      "   - -------------------------------------- 0.5/14.2 MB ? eta -:--:--\n",
      "   -- ------------------------------------- 1.0/14.2 MB 8.6 MB/s eta 0:00:02\n",
      "   ---- ----------------------------------- 1.8/14.2 MB 10.2 MB/s eta 0:00:02\n",
      "   -------- ------------------------------- 2.9/14.2 MB 14.5 MB/s eta 0:00:01\n",
      "   --------- ------------------------------ 3.4/14.2 MB 11.9 MB/s eta 0:00:01\n",
      "   --------- ------------------------------ 3.4/14.2 MB 11.9 MB/s eta 0:00:01\n",
      "   --------- ------------------------------ 3.4/14.2 MB 11.9 MB/s eta 0:00:01\n",
      "   -------------- ------------------------- 5.1/14.2 MB 9.3 MB/s eta 0:00:01\n",
      "   --------------------- ------------------ 7.5/14.2 MB 12.7 MB/s eta 0:00:01\n",
      "   --------------------------- ------------ 9.8/14.2 MB 15.2 MB/s eta 0:00:01\n",
      "   ------------------------------ --------- 10.7/14.2 MB 16.4 MB/s eta 0:00:01\n",
      "   ------------------------------- -------- 11.1/14.2 MB 15.2 MB/s eta 0:00:01\n",
      "   -------------------------------- ------- 11.6/14.2 MB 14.6 MB/s eta 0:00:01\n",
      "   ---------------------------------- ----- 12.3/14.2 MB 13.9 MB/s eta 0:00:01\n",
      "   ---------------------------------------  14.0/14.2 MB 23.4 MB/s eta 0:00:01\n",
      "   ---------------------------------------  14.2/14.2 MB 22.5 MB/s eta 0:00:01\n",
      "   ---------------------------------------  14.2/14.2 MB 22.5 MB/s eta 0:00:01\n",
      "   ---------------------------------------  14.2/14.2 MB 22.5 MB/s eta 0:00:01\n",
      "   ---------------------------------------- 14.2/14.2 MB 14.9 MB/s eta 0:00:00\n",
      "Installing collected packages: protobuf, mysql-connector-python\n",
      "Successfully installed mysql-connector-python-8.2.0 protobuf-4.21.12\n"
     ]
    }
   ],
   "source": [
    "# install mysql-connector-python\n",
    "pip install mysql-connector-python"
   ]
  },
  {
   "cell_type": "code",
   "execution_count": 1,
   "metadata": {},
   "outputs": [],
   "source": [
    "# import library\n",
    "import mysql.connector"
   ]
  },
  {
   "cell_type": "markdown",
   "metadata": {},
   "source": [
    "## Connect Database"
   ]
  },
  {
   "cell_type": "code",
   "execution_count": 2,
   "metadata": {},
   "outputs": [],
   "source": [
    "# connect to database\n",
    "mydb = mysql.connector.connect(\n",
    "    host = \"localhost\",\n",
    "    user = \"root\",\n",
    "    password = \"AdeMySQL2023*\",\n",
    "    database = \"weather_db\"\n",
    ")"
   ]
  },
  {
   "cell_type": "markdown",
   "metadata": {},
   "source": [
    "## Create Table"
   ]
  },
  {
   "cell_type": "code",
   "execution_count": 3,
   "metadata": {},
   "outputs": [],
   "source": [
    "# create table\n",
    "mycursor = mydb.cursor()\n",
    "mycursor.execute(\"CREATE TABLE climate(LocationID INT, climate_type VARCHAR(225))\")"
   ]
  },
  {
   "cell_type": "markdown",
   "metadata": {},
   "source": [
    "## Alter Table"
   ]
  },
  {
   "cell_type": "code",
   "execution_count": 7,
   "metadata": {},
   "outputs": [],
   "source": [
    "# alter table\n",
    "mycursor.execute(\"ALTER TABLE climate ADD COLUMN climate_id INT\")"
   ]
  },
  {
   "cell_type": "markdown",
   "metadata": {},
   "source": [
    "## Insert Data"
   ]
  },
  {
   "cell_type": "code",
   "execution_count": 9,
   "metadata": {},
   "outputs": [
    {
     "name": "stdout",
     "output_type": "stream",
     "text": [
      "1 record inserted.\n"
     ]
    }
   ],
   "source": [
    "# insert data into table\n",
    "sql = \"INSERT INTO climate (LocationID, climate_type, climate_id) VALUES (%s,%s,%s)\"\n",
    "val = (\"5\", \"Continental\", \"1\")\n",
    "mycursor.execute(sql, val)\n",
    "mydb.commit()\n",
    "print(mycursor.rowcount, \"record inserted.\")"
   ]
  },
  {
   "cell_type": "markdown",
   "metadata": {},
   "source": [
    "## Insert Multiple Rows"
   ]
  },
  {
   "cell_type": "code",
   "execution_count": 11,
   "metadata": {},
   "outputs": [
    {
     "name": "stdout",
     "output_type": "stream",
     "text": [
      "2 record inserted.\n"
     ]
    }
   ],
   "source": [
    "# insert multiple rows into table\n",
    "sql = \"INSERT INTO climate (LocationID, climate_type, climate_id) VALUES (%s,%s,%s)\"\n",
    "val = [(\"7\", \"Continental\", \"2\"), (\"26\", \"Moderate\", \"3\")]\n",
    "mycursor.executemany(sql, val)\n",
    "mydb.commit()\n",
    "print(mycursor.rowcount, \"record inserted.\")"
   ]
  },
  {
   "cell_type": "markdown",
   "metadata": {},
   "source": [
    "## Select and Fetch"
   ]
  },
  {
   "cell_type": "code",
   "execution_count": 12,
   "metadata": {},
   "outputs": [
    {
     "name": "stdout",
     "output_type": "stream",
     "text": [
      "[(5, 'Continental', 1), (7, 'Continental', 2), (26, 'Moderate', 3)]\n"
     ]
    }
   ],
   "source": [
    "# select data from table\n",
    "mycursor.execute(\"SELECT * FROM climate\")\n",
    "c_result = mycursor.fetchall()\n",
    "print(c_result)\n",
    "\n",
    "# Alternatively, we can use fetchone function to list fetch \n",
    "# just the first row of the query\n"
   ]
  },
  {
   "cell_type": "code",
   "execution_count": 13,
   "metadata": {},
   "outputs": [
    {
     "name": "stdout",
     "output_type": "stream",
     "text": [
      "[(5, 'Continental', 1), (7, 'Continental', 2)]\n"
     ]
    }
   ],
   "source": [
    "# Filter data\n",
    "sql = \"SELECT * FROM climate WHERE climate_type = %s\"\n",
    "val = (\"Continental\",)\n",
    "mycursor.execute(sql, val)\n",
    "c_result2 = mycursor.fetchall()\n",
    "print(c_result2)\n"
   ]
  },
  {
   "cell_type": "markdown",
   "metadata": {},
   "source": [
    "## Drop Table"
   ]
  },
  {
   "cell_type": "code",
   "execution_count": 13,
   "metadata": {},
   "outputs": [],
   "source": [
    "# drop table\n",
    "mycursor.execute(\"DROP TABLE climate\")"
   ]
  },
  {
   "cell_type": "markdown",
   "metadata": {},
   "source": [
    "# Python Tasks"
   ]
  },
  {
   "cell_type": "markdown",
   "metadata": {},
   "source": [
    "## TASK 1\n",
    "\n",
    "Using Python to work on the “weather_db”. Working on tables metoffice_dailyweatherdata and cat_location, and find out the location with the third highest average temperature.\n",
    "\n",
    "- Use python function cur.execute and cur.fetchall to run/fetch SQL commands and return the results to Python."
   ]
  },
  {
   "cell_type": "code",
   "execution_count": 6,
   "metadata": {},
   "outputs": [
    {
     "name": "stdout",
     "output_type": "stream",
     "text": [
      "[('Culdrose', 9.495000000000003)]\n"
     ]
    }
   ],
   "source": [
    "mycursor.execute(\"\"\"\n",
    "                 SELECT c.Location, AVG(m.temperature) AS average_temperature \n",
    "                 FROM cat_locations AS c \n",
    "                 INNER JOIN metoffice_dailyweatherdata AS m \n",
    "                 ON c.LocationID = m.LocationId \n",
    "                 GROUP BY c.Location \n",
    "                 ORDER BY average_temperature DESC \n",
    "                 LIMIT 1\n",
    "                 OFFSET 2 \"\"\")\n",
    "loc_max_temp = mycursor.fetchall()\n",
    "print(loc_max_temp)\n"
   ]
  },
  {
   "cell_type": "markdown",
   "metadata": {},
   "source": [
    "## TASK 2\n",
    "\n",
    "Create a table “average_values” in “weather_db” with columns “LocationID” (INT), “average_temperature” (REAL)"
   ]
  },
  {
   "cell_type": "code",
   "execution_count": 7,
   "metadata": {},
   "outputs": [],
   "source": [
    "mycursor.execute(\"\"\"CREATE TABLE average_values(\n",
    "                 LocationID INT,\n",
    "                 average_temperature REAL)\"\"\")"
   ]
  },
  {
   "cell_type": "markdown",
   "metadata": {},
   "source": [
    "## TASK 3\n",
    "\n",
    "Add column “average_windspeed” (REAL) to the table “average_values” created in question 2"
   ]
  },
  {
   "cell_type": "code",
   "execution_count": 8,
   "metadata": {},
   "outputs": [],
   "source": [
    "mycursor.execute(\"\"\"ALTER TABLE average_values\n",
    "                 ADD average_windspeed REAL\"\"\")"
   ]
  },
  {
   "cell_type": "markdown",
   "metadata": {},
   "source": [
    "## TASK 4\n",
    "\n",
    "Working on table metoffice_dailyweatherdata and compute, the average temperature and windspeed per LocationID, and fetch the results to Python."
   ]
  },
  {
   "cell_type": "code",
   "execution_count": 11,
   "metadata": {},
   "outputs": [
    {
     "name": "stdout",
     "output_type": "stream",
     "text": [
      "[(3002, 6.254430379746833, Decimal('28.7089')), (3005, 5.923076923076924, Decimal('32.2949')), (3008, 6.644871794871796, Decimal('26.8846')), (3017, 6.110126582278483, Decimal('20.6203')), (3023, 8.271794871794873, Decimal('28.8974')), (3026, 7.334177215189878, Decimal('24.6962')), (3031, 5.997468354430379, Decimal('22.4051')), (3034, 7.969620253164556, Decimal('23.4051')), (3039, 1.4884615384615392, Decimal('39.9615')), (3044, 6.916666666666667, Decimal('16.8590')), (3047, 5.643589743589743, Decimal('12.0897')), (3063, 5.300000000000002, Decimal('8.7949')), (3065, 1.3423076923076918, Decimal('58.0141')), (3066, 7.002531645569618, Decimal('16.7595')), (3068, 6.388461538461537, Decimal('16.2821')), (3072, 0.17948717948717952, Decimal('35.9359')), (3075, 6.001282051282051, Decimal('19.6410')), (3080, 6.161538461538463, Decimal('11.5641')), (3088, 5.1499999999999995, Decimal('22.0769')), (3091, 5.874683544303795, Decimal('13.7975')), (3100, 7.978481012658224, Decimal('23.4051')), (3105, 7.8518987341772135, Decimal('18.3797')), (3111, 8.078481012658225, Decimal('18.8101')), (3132, 7.97179487179487, Decimal('15.8590')), (3134, 6.587341772151896, Decimal('11.7975')), (3136, 7.808860759493671, Decimal('15.0253')), (3144, 6.735897435897432, Decimal('11.2179')), (3148, 3.112820512820513, Decimal('23.9615')), (3153, 6.6645569620253164, Decimal('17.6076')), (3155, 5.734615384615383, Decimal('19.6538')), (3158, 6.402564102564104, Decimal('17.2436')), (3162, 4.957692307692308, Decimal('12.1410')), (3166, 7.225641025641023, Decimal('14.0256')), (3171, 6.58354430379747, Decimal('15.9873')), (3204, 8.591025641025643, Decimal('18.3205')), (3210, 6.52948717948718, Decimal('20.0128')), (3212, 7.130379746835439, Decimal('8.5063')), (3214, 6.814102564102564, Decimal('12.0000')), (3220, 6.408974358974358, None), (3224, 4.256962025316456, Decimal('17.4051')), (3225, 5.379487179487177, Decimal('14.7051')), (3226, 5.333333333333334, Decimal('9.3590')), (3227, 0.8217948717948721, Decimal('34.6026')), (3230, 5.041772151898735, Decimal('8.4557')), (3238, 4.1544303797468345, Decimal('7.3544')), (3240, 5.467088607594934, Decimal('12.4684')), (3257, 6.192307692307693, Decimal('11.5897')), (3265, 6.211392405063292, Decimal('10.9873')), (3266, 6.432911392405062, Decimal('9.4684')), (3275, 5.61012658227848, Decimal('17.4810')), (3281, 4.47948717948718, Decimal('19.0897')), (3292, 6.43974358974359, Decimal('10.7843')), (3302, 8.165384615384616, Decimal('18.8205')), (3305, 6.106329113924051, Decimal('20.6835')), (3313, 7.406329113924048, Decimal('10.6582')), (3316, 7.321518987341775, Decimal('14.1646')), (3321, 7.157692307692307, Decimal('8.6154')), (3330, 4.903797468354431, Decimal('10.6456')), (3344, 5.370886075949368, Decimal('11.1139')), (3351, 6.905063291139241, Decimal('9.0380')), (3354, 6.691139240506329, Decimal('9.3671')), (3373, 6.486075949367091, Decimal('12.4051')), (3377, 6.708974358974357, Decimal('13.0256')), (3379, 6.543589743589746, Decimal('14.2179')), (3382, 6.50886075949367, Decimal('11.0000')), (3385, 6.617721518987342, Decimal('14.3418')), (3391, 6.611538461538459, Decimal('10.9744')), (3392, 6.441772151898736, Decimal('14.4937')), (3405, 7.860759493670882, Decimal('21.9494')), (3410, 5.466666666666667, Decimal('11.8718')), (3414, 6.847435897435902, Decimal('9.3205')), (3462, 6.6177215189873415, Decimal('12.0633')), (3469, 6.548101265822784, Decimal('13.9873')), (3482, 6.25897435897436, Decimal('11.6667')), (3488, 6.447435897435897, Decimal('14.8846')), (3502, 7.473417721518987, Decimal('17.1646')), (3503, 7.70769230769231, Decimal('6.7564')), (3507, 5.573076923076925, Decimal('9.6282')), (3520, 6.216666666666668, Decimal('5.5897')), (3522, 6.655696202531649, Decimal('3.8608')), (3529, 7.4192307692307695, Decimal('8.3462')), (3535, 7.0898734177215195, Decimal('9.0886')), (3544, 6.6923076923076925, Decimal('6.4744')), (3560, 6.637179487179487, Decimal('10.4615')), (3590, 5.717948717948719, Decimal('10.4359')), (3604, 8.430379746835445, Decimal('13.0886')), (3605, 7.878378378378382, Decimal('14.7703')), (3609, 8.228571428571428, Decimal('16.2714')), (3647, 5.956250000000002, Decimal('11.7500')), (3649, 7.773333333333334, Decimal('6.9500')), (3658, 7.7533333333333365, Decimal('9.7833')), (3660, 6.368333333333334, Decimal('6.8000')), (3672, 7.458333333333333, Decimal('7.6500')), (3680, 6.576666666666668, None), (3684, 6.500000000000001, Decimal('9.0833')), (3693, 7.133333333333335, Decimal('9.7333')), (3707, 8.693333333333332, Decimal('10.4500')), (3710, 6.34, Decimal('10.2500')), (3716, 7.960000000000002, Decimal('7.9167')), (3740, 7.353333333333331, Decimal('8.3667')), (3743, 7.575000000000001, Decimal('7.2333')), (3746, 7.670000000000002, Decimal('10.9167')), (3749, 7.955, Decimal('9.0167')), (3761, 7.345, Decimal('10.6667')), (3768, 7.416666666666666, Decimal('8.4667')), (3769, 6.905000000000003, Decimal('5.6833')), (3772, 7.65, Decimal('8.9000')), (3781, 6.3966666666666665, Decimal('8.6167')), (3796, 6.741666666666669, Decimal('11.7667')), (3797, 6.808333333333336, Decimal('10.9000')), (3803, 10.088333333333333, Decimal('17.9000')), (3808, 9.303333333333335, Decimal('12.0333')), (3809, 9.495000000000003, Decimal('15.5333')), (3823, 7.788333333333335, Decimal('10.7833')), (3827, 9.21166666666667, Decimal('12.1667')), (3840, 7.360000000000001, Decimal('10.7119')), (3844, 8.946666666666664, Decimal('7.3667')), (3853, 8.851666666666667, Decimal('8.9333')), (3857, 9.400000000000004, Decimal('16.1167')), (3862, 8.986666666666666, Decimal('9.2000')), (3866, 8.855, Decimal('12.8000')), (3872, 8.165000000000001, Decimal('10.8167')), (3876, 8.196666666666667, Decimal('10.3333')), (3882, 7.069999999999999, Decimal('6.2833')), (3894, 9.24166666666667, Decimal('12.0000')), (3895, 8.640000000000002, Decimal('11.9833')), (3904, 6.841666666666666, Decimal('9.7500')), (3907, 7.585, Decimal('15.6500')), (3911, 5.374999999999998, Decimal('11.1500')), (3916, 6.798333333333332, Decimal('16.6333')), (3917, 6.914999999999997, Decimal('11.7167')), (3923, 6.070000000000001, Decimal('14.1525')), (3952, 8.811666666666667, Decimal('18.1833')), (3953, 9.558333333333334, Decimal('14.2500')), (3976, 8.831666666666667, Decimal('23.0833')), (3980, 7.856666666666667, Decimal('22.4333')), (99057, 7.246666666666667, None), (99060, 5.999999999999997, None), (99081, 7.823333333333334, Decimal('8.3167')), (99142, 5.861666666666665, None)]\n"
     ]
    }
   ],
   "source": [
    "mycursor.execute(\"\"\"SELECT LocationId, AVG(temperature) AS average_temperature,\n",
    "                            AVG(windspeed) AS average_windspeed\n",
    "                    FROM metoffice_dailyweatherdata\n",
    "                    GROUP BY LocationID\"\"\")\n",
    "loc_avg_wind_temp = mycursor.fetchall()\n",
    "print(loc_avg_wind_temp)"
   ]
  },
  {
   "cell_type": "markdown",
   "metadata": {},
   "source": [
    "## TASK 5\n",
    "\n",
    "Import the results from Exercise 4 into “average_values” table that was created in question 2."
   ]
  },
  {
   "cell_type": "code",
   "execution_count": 12,
   "metadata": {},
   "outputs": [
    {
     "name": "stdout",
     "output_type": "stream",
     "text": [
      "140 records inserted.\n"
     ]
    }
   ],
   "source": [
    "sql = \"\"\"INSERT INTO average_values (LocationID,\n",
    "                    average_temperature, average_windspeed)\n",
    "         VALUES (%s,%s,%s)\"\"\"\n",
    "val = loc_avg_wind_temp\n",
    "mycursor.executemany(sql,val)\n",
    "mydb.commit()\n",
    "print(mycursor.rowcount, 'records inserted.')"
   ]
  },
  {
   "cell_type": "markdown",
   "metadata": {},
   "source": [
    "## TASK 6\n",
    "\n",
    "Remove the new table average_values from weather.db."
   ]
  },
  {
   "cell_type": "code",
   "execution_count": 14,
   "metadata": {},
   "outputs": [],
   "source": [
    "mycursor.execute(\"DROP TABLE average_values\")"
   ]
  }
 ],
 "metadata": {
  "kernelspec": {
   "display_name": "base",
   "language": "python",
   "name": "python3"
  },
  "language_info": {
   "codemirror_mode": {
    "name": "ipython",
    "version": 3
   },
   "file_extension": ".py",
   "mimetype": "text/x-python",
   "name": "python",
   "nbconvert_exporter": "python",
   "pygments_lexer": "ipython3",
   "version": "3.11.4"
  }
 },
 "nbformat": 4,
 "nbformat_minor": 2
}
